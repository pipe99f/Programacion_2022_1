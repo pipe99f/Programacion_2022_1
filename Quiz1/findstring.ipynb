{
  "nbformat": 4,
  "nbformat_minor": 0,
  "metadata": {
    "colab": {
      "name": "Untitled0.ipynb",
      "provenance": []
    },
    "kernelspec": {
      "name": "python3",
      "display_name": "Python 3"
    },
    "language_info": {
      "name": "python"
    }
  },
  "cells": [
    {
      "cell_type": "code",
      "execution_count": 1,
      "metadata": {
        "colab": {
          "base_uri": "https://localhost:8080/"
        },
        "id": "SikeVOXl_qSk",
        "outputId": "dad17baa-d21e-48e9-ce82-92f379572c16"
      },
      "outputs": [
        {
          "output_type": "stream",
          "name": "stdout",
          "text": [
            "El fragmento se encuentra en la posición: 29502\n"
          ]
        }
      ],
      "source": [
        "#String a buscar: CATGAGCAGTGCTGACTCAACTCAGGCCTAA\n",
        "\n",
        "g = 'CATGAGCAGTGCTGACTCAACTCAGGCCTAA'\n",
        "with open(\"sequence_Covid-19.fasta\") as f:\n",
        "    lines = f.readlines()\n",
        "\n",
        "secuence=''\n",
        "for l in lines[1:]:\n",
        "    secuence+=l[:-1]\n",
        "#  print(secuence)\n",
        "\n",
        "contador = 0\n",
        "#algoritmo buscador\n",
        "for i in secuence:\n",
        "    flag = 0\n",
        "    subcont = 0\n",
        "    for a in range(3):\n",
        "        subcont += 1\n",
        "        if secuence[contador+a] != g[a]:\n",
        "            flag = 1\n",
        "            break\n",
        "        elif secuence[contador + len(g)-a-1] != g[-a-1]:\n",
        "            flag = 1\n",
        "            break\n",
        "    if flag == 0:\n",
        "        if g == secuence[contador:contador+len(g)]:\n",
        "            print(\"El fragmento se encuentra en la posición:\", contador)\n",
        "            break\n",
        "        else:\n",
        "            contador += 1\n",
        "    elif flag == 1:\n",
        "        contador += 1\n",
        "\n"
      ]
    },
    {
      "cell_type": "code",
      "source": [
        "problema='CATGAGCAGTGCTGACTCAACTCAGGCCTAA'\n",
        "a=secuence.find(problema)\n",
        "print(a)"
      ],
      "metadata": {
        "colab": {
          "base_uri": "https://localhost:8080/"
        },
        "id": "wR1jP-vXAJBw",
        "outputId": "9c9b3de6-5990-4547-dfd3-4ddf7ef29292"
      },
      "execution_count": 2,
      "outputs": [
        {
          "output_type": "stream",
          "name": "stdout",
          "text": [
            "29502\n"
          ]
        }
      ]
    },
    {
      "cell_type": "markdown",
      "source": [
        "# New Section"
      ],
      "metadata": {
        "id": "OmLBL1hQ_vBs"
      }
    }
  ]
}