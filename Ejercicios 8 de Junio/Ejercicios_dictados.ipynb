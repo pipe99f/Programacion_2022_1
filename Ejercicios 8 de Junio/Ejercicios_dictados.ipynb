{
  "nbformat": 4,
  "nbformat_minor": 0,
  "metadata": {
    "colab": {
      "name": "Ejercicios dictados.ipynb",
      "provenance": []
    },
    "kernelspec": {
      "name": "python3",
      "display_name": "Python 3"
    },
    "language_info": {
      "name": "python"
    }
  },
  "cells": [
    {
      "cell_type": "code",
      "execution_count": 1,
      "metadata": {
        "colab": {
          "base_uri": "https://localhost:8080/"
        },
        "id": "b4JMhNeEBPM0",
        "outputId": "25e3b3e9-8306-4bea-c7db-9884949aae3c"
      },
      "outputs": [
        {
          "output_type": "stream",
          "name": "stdout",
          "text": [
            "Raúl tiene 13 años, vive en Lima y su número de teléfono es 1231234.\n"
          ]
        }
      ],
      "source": [
        "def infoPersonal(nombre, edad, direc, tel):\n",
        "    dict = {}\n",
        "    dict['nombre'] = nombre\n",
        "    dict['edad'] = edad\n",
        "    dict['direc'] = direc\n",
        "    dict['tel'] = tel\n",
        "    return f\"{dict['nombre']} tiene {dict['edad']} años, vive en {dict['direc']} y su número de teléfono es {dict['tel']}.\"\n",
        "\n",
        "print(infoPersonal('Raúl', '13', 'Lima', '1231234'))\n",
        "\n"
      ]
    },
    {
      "cell_type": "code",
      "source": [
        "print(infoPersonal('Raúl', '13', 'Lima', '1231234'))\n",
        "\n",
        "def esBisiesto(año):\n",
        "    if año % 400 == 0:\n",
        "        return True\n",
        "    elif año % 100 == 0:\n",
        "        return False\n",
        "    elif año % 4 == 0:\n",
        "        return True\n",
        "    else:\n",
        "        return False\n",
        "meses = {1:['enero', 31], 2:['febrero', 28], 3:['marzo', 31], 4:['abril', 30], 5:['mayo', 31], 6:['junio', 30], 7:['julio', 31], 8:['agosto', 31], 9:['septiembre', 30], 10:['octubre', 31], 11:['noviembre', 30], 12:['diciembre', 31]}\n",
        "\n",
        "\n",
        "def fechaydiasvida():\n",
        "    nacimiento = input(\"Escriba su fecha de nacimiento (dd/mm/aaaa):\").split('/')\n",
        "    actual = input(\"Escriba la fecha actual (dd/mm/aaaa):\").split('/')\n",
        "    a = 0\n",
        "    for i in range(int(nacimiento[2]),int(actual[2])):\n",
        "        if esBisiesto(i) == True:\n",
        "            a += 366\n",
        "        else:\n",
        "            a += 365\n",
        "    def diasaño(año):\n",
        "        diasTranscurridos = 0\n",
        "        for i in range (1, int(año[1])+1):\n",
        "            diasTranscurridos += meses[i][1]\n",
        "            if esBisiesto(int(año[2])) == True and i == 3:\n",
        "                diasTranscurridos += 1\n",
        "            elif i == int(año[1]):\n",
        "                diasTranscurridos += -meses[int(año[1])][1]+ int(año[0])\n",
        "        return diasTranscurridos\n",
        "    print(a)\n",
        "    print(diasaño(actual))\n",
        "    print(diasaño(nacimiento))\n",
        "    a += diasaño(actual) - diasaño(nacimiento)\n",
        "    print(f'La fecha actual es {actual[0]} de {meses[int(actual[1])][0]} de {actual[2]} y sus días de vida son {a}.')\n",
        "\n",
        "\n",
        "\n",
        "\n",
        "fechaydiasvida()"
      ],
      "metadata": {
        "colab": {
          "base_uri": "https://localhost:8080/"
        },
        "id": "ol_KdXQQCGt8",
        "outputId": "b7bd4174-55e3-499a-9702-292c769b0dbe"
      },
      "execution_count": 2,
      "outputs": [
        {
          "output_type": "stream",
          "name": "stdout",
          "text": [
            "Raúl tiene 13 años, vive en Lima y su número de teléfono es 1231234.\n",
            "Escriba su fecha de nacimiento (dd/mm/aaaa):01/03/2003\n",
            "Escriba la fecha actual (dd/mm/aaaa):04/08/2110\n",
            "39081\n",
            "216\n",
            "60\n",
            "La fecha actual es 04 de agosto de 2110 y sus días de vida son 39237.\n"
          ]
        }
      ]
    },
    {
      "cell_type": "code",
      "source": [
        "def admindict():\n",
        "    a = 'y'\n",
        "    dict = {}\n",
        "    contador = 0\n",
        "    while a == 'y':\n",
        "        subdict = {}\n",
        "        print('Ingrese tres datos')\n",
        "        for i in range(1,4):\n",
        "            subdict[f'dato{i}'] = input(f'Dato {i}: ')\n",
        "        dict[contador] = subdict\n",
        "        a = input('Desea continuar? (y/n) ')\n",
        "        contador += 1\n",
        "    print('Primer usuario: \\n', dict[0], '\\nÚltimo usuario: \\n', dict[contador-1])\n",
        "\n",
        "admindict()"
      ],
      "metadata": {
        "colab": {
          "base_uri": "https://localhost:8080/"
        },
        "id": "rQiG94iECb3E",
        "outputId": "0d15aac5-2f5a-48a3-b26c-3fcfdd6c0923"
      },
      "execution_count": 3,
      "outputs": [
        {
          "output_type": "stream",
          "name": "stdout",
          "text": [
            "Ingrese tres datos\n",
            "Dato 1: 123\n",
            "Dato 2: 123\n",
            "Dato 3: 123\n",
            "Desea continuar? (y/n) y\n",
            "Ingrese tres datos\n",
            "Dato 1: 456\n",
            "Dato 2: 456\n",
            "Dato 3: 456\n",
            "Desea continuar? (y/n) y\n",
            "Ingrese tres datos\n",
            "Dato 1: 75\n",
            "Dato 2: 75\n",
            "Dato 3: 75\n",
            "Desea continuar? (y/n) n\n",
            "Primer usuario: \n",
            " {'dato1': '123', 'dato2': '123', 'dato3': '123'} \n",
            "Último usuario: \n",
            " {'dato1': '75', 'dato2': '75', 'dato3': '75'}\n"
          ]
        }
      ]
    }
  ]
}