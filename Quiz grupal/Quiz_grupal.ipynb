{
  "nbformat": 4,
  "nbformat_minor": 0,
  "metadata": {
    "colab": {
      "name": "Quiz grupal.ipynb",
      "provenance": []
    },
    "kernelspec": {
      "name": "python3",
      "display_name": "Python 3"
    },
    "language_info": {
      "name": "python"
    }
  },
  "cells": [
    {
      "cell_type": "code",
      "execution_count": 4,
      "metadata": {
        "colab": {
          "base_uri": "https://localhost:8080/"
        },
        "id": "Nu_B_usZOMsM",
        "outputId": "caa84b38-2e05-4e8a-8614-89fd41b4439f"
      },
      "outputs": [
        {
          "output_type": "stream",
          "name": "stdout",
          "text": [
            "Hay 7 pruebas\n"
          ]
        }
      ],
      "source": [
        "import json\n",
        "import requests \n",
        "from pprint import pprint\n",
        "\n",
        "response = requests.get(\n",
        "        \"https://fp.josedomingo.org/lmgs/u05/ej2.json\"\n",
        "        )\n",
        "pruebas = json.loads(response.text)\n",
        "#pprint(pruebas)\n",
        "\n",
        "def numeropruebas():\n",
        "    count = 0\n",
        "    for i in pruebas:\n",
        "        count +=1\n",
        "    return count\n",
        "\n",
        "print(f\"Hay {numeropruebas()} pruebas\")\n",
        "\n"
      ]
    },
    {
      "cell_type": "code",
      "source": [
        "def pruebas_mas_de_dos_horas():\n",
        "    titulos = []\n",
        "    for i in pruebas:\n",
        "        if i[\"Horas\"] > 2:\n",
        "            titulos.append(i[\"Titulo\"])\n",
        "    return titulos\n",
        "\n",
        "print(pruebas_mas_de_dos_horas())\n",
        "\n"
      ],
      "metadata": {
        "colab": {
          "base_uri": "https://localhost:8080/"
        },
        "id": "nTVGvjKOORFc",
        "outputId": "5c478168-a288-49f7-b1a7-26ffde46206b"
      },
      "execution_count": 2,
      "outputs": [
        {
          "output_type": "stream",
          "name": "stdout",
          "text": [
            "['Inglés - Prueba de nivel - para cursos de Inglés para la Docencia y preparatorio de GESE Trinity', 'Inglés - Prueba de nivel - Para cursos segundo cuatrimestre']\n"
          ]
        }
      ]
    },
    {
      "cell_type": "code",
      "source": [
        "def pruebas_no_presenciales():\n",
        "    url = []\n",
        "    for i in pruebas:\n",
        "        if i[\"TipoFormacion\"] != \"Presencial\":\n",
        "            url.append(i[\"URL\"])\n",
        "    return url\n",
        "print(pruebas_no_presenciales())\n",
        "\n"
      ],
      "metadata": {
        "colab": {
          "base_uri": "https://localhost:8080/"
        },
        "id": "EQQ8wfSzORQY",
        "outputId": "80ad0ad8-3e88-4174-e1b5-aba5f1c6638c"
      },
      "execution_count": 5,
      "outputs": [
        {
          "output_type": "stream",
          "name": "stdout",
          "text": [
            "['https://sede.fg.ull.es/es/idioma/detalle/A15050163/aleman-prueba-de-nivel-para-cursos-segundo-cuatrimestre', 'https://sede.fg.ull.es/es/idioma/detalle/A15050167/espa-ol-prueba-de-nivel-para-cursos-segundo-cuatrimestre']\n"
          ]
        }
      ]
    },
    {
      "cell_type": "code",
      "source": [
        "def profesor_y_titulo(ID):\n",
        "    tituloyprofesor = []\n",
        "    nombres = []\n",
        "    for i in pruebas:\n",
        "        if i[\"ID\"] == ID:\n",
        "            for a in i['Profesorado']:\n",
        "                nombres.append(a['NombreCompleto'])\n",
        "            tituloyprofesor.append(i['Titulo'])\n",
        "            tituloyprofesor.append(nombres)\n",
        "            break\n",
        "    return tituloyprofesor\n",
        "print(profesor_y_titulo('A15050007'))\n",
        "\n"
      ],
      "metadata": {
        "colab": {
          "base_uri": "https://localhost:8080/"
        },
        "id": "aOqKJKcsORc4",
        "outputId": "6baa6bf1-fa0a-416c-cbdb-0b10e1000a16"
      },
      "execution_count": 3,
      "outputs": [
        {
          "output_type": "stream",
          "name": "stdout",
          "text": [
            "['Inglés - Prueba de nivel - Para cursos segundo cuatrimestre', ['María Luisa Capón Mouriz', 'Richard James Murison', 'María Isabel Rodríguez Rodríguez', 'Beatriz Freire Betancor', 'Peggy Gerd Henriksson Carlsson', 'Eva Miriam Amaral Ribeiro Sampaio de Andrade', 'Marta María González Orta']]\n"
          ]
        }
      ]
    }
  ]
}