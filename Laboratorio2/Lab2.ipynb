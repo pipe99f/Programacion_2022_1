{
  "nbformat": 4,
  "nbformat_minor": 0,
  "metadata": {
    "colab": {
      "name": "Copie de Lab2.ipynb",
      "provenance": []
    },
    "kernelspec": {
      "name": "python3",
      "display_name": "Python 3"
    },
    "language_info": {
      "name": "python"
    }
  },
  "cells": [
    {
      "cell_type": "markdown",
      "metadata": {
        "id": "DkoXm54uQpZO"
      },
      "source": [
        "##Laboratorio 2\n",
        "#cumplir con cada uno de los 9 retos en sus grupos de trabajo\n",
        "#y subir el Colab a el repositorio de un seleccionado,\n",
        "for: 30/05/2022 12:59"
      ]
    },
    {
      "cell_type": "markdown",
      "source": [
        ""
      ],
      "metadata": {
        "id": "orCoD31VFWfC"
      }
    },
    {
      "cell_type": "markdown",
      "metadata": {
        "id": "fzOGmk_1SRtK"
      },
      "source": [
        "##1. Define a procedure histogram () that takes a list of whole numbers and prints a histogram on the screen. Example: procedure ([4, 9, 7]) should print the following:\n",
        "\n",
        "![image.png](data:image/png;base64,iVBORw0KGgoAAAANSUhEUgAAAGEAAABECAYAAACRZ1smAAACrklEQVR4nO2aTY6bUBCE641yiFl4Yylbb3wURvgS2eUIDD4K+BCRshx8iJFmYUv2LTqLZxvxM0NH/qFC6pOQDH5QrVfQGFPBzCyEAAAwM4jH8zR2AUImUCATCOiasAdeAlAN7bkFwgo4DgwrV8B6OzDIqzlRGiaUewAzYJkCcwDHDRBemzusz5M1A5IF8AygegVeNvWY46Zeny+A+Qy9E12ufJqTx+JPotNihswsT+MCmBU7a3Ao4/Yki0uOuP7WHHbZnmdxAcySsjWoMpfm1GmYYGaXiRmaiLMZ7clvk/dNfhun5lRptKMQgPALyFPg42dcb/fp4yZu//EOJBnwO/TfG9YhjkMGLN/j5869YevTnDxJWV8Jxc7MdmZJanaw09meNV3Lz2d/VX/3ljXP9kNZrxep1cdtXTmN777QnDrddtQzWb1UZjhN3FcUqVleDQzyak6UYKa/LcZGD2sEPP13N0FC1I4IUDsiQCYQIBMIkAkEyAQCZAIBMoEAmUCATCDgG6An5bHRlUCATCBAJhDwT+WO2tGaqzSd9bs0r8xNXUzwZoAenjva1uvz78ByXtdR7v9e01O/V/NmuanLi05nBmiM3FGRdo/VFwbwaHrrd2neKDeFzhbi3FGR+pIYHk1v/S7NK3NT9T3BmQEaI3dUruL2jwWQI37u69MeTW/9Ls1b5aZ680FMuaOWzjk+k7fOPK+mp36v5q1yU912RJw76kzWNZrO+l2aV+amgpn+sxgbPawRoNwRAWpHBKgdESATCJAJBMgEAmQCATKBAJlAgEwgQCYQIBMIkAkEyAQCZAIByh0NH+7uKHfUU//DabxzVe5oFJQ7Gj7c3VHu6JP6H4pyR/4ozb1Q7mj4cHdHL/oJ0MMaAcodEaB2RIDaEQEygQCZQIBMIEAmEPAHqXKpF4dtDsUAAAAASUVORK5CYII=)"
      ]
    },
    {
      "cell_type": "code",
      "metadata": {
        "id": "rACd6_TWSJHP",
        "colab": {
          "base_uri": "https://localhost:8080/"
        },
        "outputId": "52611e7e-8809-40ef-e230-39f62595b2fb"
      },
      "source": [
        "def histogram (lista):\n",
        "  #here, your code\n",
        "    for i in lista:\n",
        "        print(i*'*')\n",
        "\n",
        "lista = [10, 7, 2]\n",
        "histogram(lista)  "
      ],
      "execution_count": 1,
      "outputs": [
        {
          "output_type": "stream",
          "name": "stdout",
          "text": [
            "**********\n",
            "*******\n",
            "**\n"
          ]
        }
      ]
    },
    {
      "cell_type": "markdown",
      "metadata": {
        "id": "rG_FvRddSnHW"
      },
      "source": [
        "#2. Write a longer_long () function that takes a list of words and returns the longest."
      ]
    },
    {
      "cell_type": "code",
      "metadata": {
        "id": "L0Yr05pUTnBv",
        "colab": {
          "base_uri": "https://localhost:8080/"
        },
        "outputId": "aee2a765-a5fa-4074-ef6a-7146e6f40755"
      },
      "source": [
        "def longer_long(lista):\n",
        "    mas_larga = \"\"\n",
        "    for i in lista:\n",
        "        if len(i) > len(mas_larga):\n",
        "            mas_larga = i\n",
        "    return(mas_larga)\n",
        "\n",
        "lista = [\"asdasd\", \"remeremre\", \"fr\", \"jtjtjtjtjtjtjtjtjtjtj\"]\n",
        "print(longer_long(lista))\n",
        "  "
      ],
      "execution_count": 6,
      "outputs": [
        {
          "output_type": "stream",
          "name": "stdout",
          "text": [
            "jtjtjtjtjtjtjtjtjtjtj\n"
          ]
        }
      ]
    },
    {
      "cell_type": "markdown",
      "metadata": {
        "id": "6Z6cu4VfUYCm"
      },
      "source": [
        "#3. Write a program that tells the user to enter a string. The program has to evaluate the string and say how many capital letters it has."
      ]
    },
    {
      "cell_type": "code",
      "metadata": {
        "id": "4Ad4oDmMUlrm",
        "colab": {
          "base_uri": "https://localhost:8080/"
        },
        "outputId": "84505728-fe6d-444a-8967-23cf1faad78a"
      },
      "source": [
        "def filt_words():\n",
        "  #here, your code\n",
        "    st = input(\"Ingrese un string \")\n",
        "    contador = 0\n",
        "    for i in st:\n",
        "        if i.isupper() == True:\n",
        "            contador += 1\n",
        "    return(print(\"El número de mayúsculas en \", st, \"es \", contador))\n",
        "\n",
        "filt_words()"
      ],
      "execution_count": 8,
      "outputs": [
        {
          "output_type": "stream",
          "name": "stdout",
          "text": [
            "Ingrese un string IfhgHFmasdkfmQ\n",
            "El número de mayúsculas en  IfhgHFmasdkfmQ es  4\n"
          ]
        }
      ]
    },
    {
      "cell_type": "markdown",
      "metadata": {
        "id": "h_rpoZ4pUtRc"
      },
      "source": [
        "#4.Build a small program that converts binary numbers to integers. Example:\n",
        "#![image.png](data:image/png;base64,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)"
      ]
    },
    {
      "cell_type": "code",
      "metadata": {
        "id": "5ynFNOTKVSq9",
        "colab": {
          "base_uri": "https://localhost:8080/"
        },
        "outputId": "75f4eebc-86ad-4d4d-8365-e39f80fffcfb"
      },
      "source": [
        "def aDecimal(numeroBin):\n",
        "    numeroBin = str(numeroBin)\n",
        "    decimal = 0\n",
        "    for i in range(len(numeroBin)):\n",
        "        decimal = (2**i)*int(numeroBin[-i-1]) + decimal\n",
        "    return decimal\n",
        "print(aDecimal(111))\n",
        "print(aDecimal(10111001))\n",
        "print(aDecimal(11))\n",
        "print(aDecimal(1000010011))\n",
        "\n"
      ],
      "execution_count": 17,
      "outputs": [
        {
          "output_type": "stream",
          "name": "stdout",
          "text": [
            "7\n",
            "185\n",
            "3\n",
            "531\n"
          ]
        }
      ]
    },
    {
      "cell_type": "markdown",
      "metadata": {
        "id": "56HLGw30VjiX"
      },
      "source": [
        "#5.Create a function count_vols (), which receives a word and counts how many letters \"a\" it has, how many letters \"e\" it has, and so on until all the vowels are completed.\n",
        "You can make the user who chooses the word.\n",
        "only in lower letters"
      ]
    },
    {
      "cell_type": "code",
      "metadata": {
        "id": "wV0z9j6mQiX1",
        "colab": {
          "base_uri": "https://localhost:8080/"
        },
        "outputId": "9bc74e03-6e47-429e-f2dd-d651fa68be66"
      },
      "source": [
        "def contar_vocales(palabra):\n",
        "    dictt = {\"a\": 0, \"e\": 0, \"i\": 0, \"o\": 0, \"u\": 0}\n",
        "    for i in palabra:\n",
        "        if i in ['a','e','i', 'o', 'u']:\n",
        "            dictt[i] += 1\n",
        "    return dictt\n",
        "\n",
        "print(contar_vocales(\"asdfe\"))\n",
        "\n"
      ],
      "execution_count": 15,
      "outputs": [
        {
          "output_type": "stream",
          "name": "stdout",
          "text": [
            "{'a': 1, 'e': 1, 'i': 0, 'o': 0, 'u': 0}\n"
          ]
        }
      ]
    },
    {
      "cell_type": "markdown",
      "metadata": {
        "id": "cW8wgs4sWqe0"
      },
      "source": [
        "#6.Write a function is leap () that determines if a given year is a leap year \n",
        "A leap year is divisible by 4, but not by 100. It is also divisible by 400"
      ]
    },
    {
      "cell_type": "code",
      "metadata": {
        "id": "mVc2L_lhWqwC",
        "colab": {
          "base_uri": "https://localhost:8080/"
        },
        "outputId": "be32279a-8cf7-4648-deb9-4087e4ea4c63"
      },
      "source": [
        "def es_bisiesto(año):\n",
        "    if año % 4 == 0 and año % 100 != 0:\n",
        "        print(año, \"es un año bisiesto\")\n",
        "    elif año % 4 == 0 and año % 400 ==0:\n",
        "        print(año, \"es un año bisiesto\")\n",
        "    else:\n",
        "        print(año, 'no es un año bisiesto')\n",
        "\n",
        "\n",
        "es_bisiesto(300)\n",
        "es_bisiesto(208)\n",
        "es_bisiesto(1200)\n",
        "es_bisiesto(613)\n",
        "\n"
      ],
      "execution_count": 13,
      "outputs": [
        {
          "output_type": "stream",
          "name": "stdout",
          "text": [
            "300 no es un año bisiesto\n",
            "208 es un año bisiesto\n",
            "1200 es un año bisiesto\n",
            "613 no es un año bisiesto\n"
          ]
        }
      ]
    },
    {
      "cell_type": "markdown",
      "metadata": {
        "id": "5BuKdB_8YEzH"
      },
      "source": [
        "#7. Write a program that asks for two words and tells whether or not they rhyme. If the last three letters match, you have to say that they rhyme. If only the last two coincide, he has to say that they rhyme a bit and if not, that they do not rhyme.\n",
        "Example:\n",
        "![image.png](data:image/png;base64,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)"
      ]
    },
    {
      "cell_type": "code",
      "metadata": {
        "id": "DNbrtrbAYeBG",
        "colab": {
          "base_uri": "https://localhost:8080/"
        },
        "outputId": "007b7b4d-4d6b-49bc-e745-dd66998bf6b6"
      },
      "source": [
        "def rim(uno, dos):\n",
        "    if uno[-3:] == dos[-3:]:\n",
        "        return \"Riman\"\n",
        "    elif uno[-2:] == dos[-2:]:\n",
        "        return \"Riman un poco\"\n",
        "    else:\n",
        "        return 'No riman'\n",
        "\n",
        "print(rim('canción', 'acción'))\n",
        "print(rim('casa', 'mesa'))\n",
        "print(rim('canción', 'mesa'))\n"
      ],
      "execution_count": 14,
      "outputs": [
        {
          "output_type": "stream",
          "name": "stdout",
          "text": [
            "Riman\n",
            "Riman un poco\n",
            "No riman\n"
          ]
        }
      ]
    },
    {
      "cell_type": "markdown",
      "metadata": {
        "id": "RX_TI52-Z_bl"
      },
      "source": [
        "#8.It has a program that asks the user for a dollar amount, an interest rate, and a number of years. It shows on the screen how much the initial capital will have been converted after those years if the interest rate entered is applied each year.\n",
        "Remember that a capital C dollars at an interest of x percent for n years becomes C * (1 + x / 100) raised to n (years). Test the program knowing that an amount of $ 10,000 at 4.5% annual interest becomes $ 24,117.14 after 20 years."
      ]
    },
    {
      "cell_type": "code",
      "metadata": {
        "id": "Y2Xi2BT-aREe",
        "colab": {
          "base_uri": "https://localhost:8080/"
        },
        "outputId": "036a8c0b-6421-44a8-a395-b11cb698671b"
      },
      "source": [
        "#  La tasa de interés se debe ingresar como un valor entre 0 y 1\n",
        "def calculo(dinero, inte, cant_anos):\n",
        "    x = dinero*(inte+1)**cant_anos\n",
        "    return x\n",
        "print(calculo(10000, 0.045, 20))\n",
        "print(calculo(1000, 0.445, 7))\n",
        "print(calculo(50400, 0.31, 10))\n"
      ],
      "execution_count": 18,
      "outputs": [
        {
          "output_type": "stream",
          "name": "stdout",
          "text": [
            "24117.140248374057\n",
            "13154.517699953201\n",
            "750142.0189527348\n"
          ]
        }
      ]
    },
    {
      "cell_type": "markdown",
      "source": [
        ""
      ],
      "metadata": {
        "id": "P1XcXQvFQ59f"
      }
    },
    {
      "cell_type": "markdown",
      "source": [
        "##9. Create an algorithm that generates 10 files iteratively, call this files 'tabla_del_n.txt' been n the (0 to 9) numbers with the multiplication tables from (0 to 9)\n",
        "following the format:\n",
        "![image.png](data:image/png;base64,iVBORw0KGgoAAAANSUhEUgAAAIAAAACCCAYAAACO9sDAAAAD0UlEQVR4nO2cXY7bIBRGcdXHzgKa/a8tXUD6Tp88cRFguPzE5jtHGikTJ0Di44ttPmXz3nsHsvz49ADgsyCAOAggDgKI01WAbduy2/a/UZS2PWMsPZgxvp+lHbdeLOzvv8KXfqWx5PDeu23bmr/7HFEBjl8QV4lrExXgjOOREwqS22Zts/R9Z9t6yJxrM7VtP5BSn9Eyzl6fzSRAOPiwc0sFOWszRvi645cSa6O1ou3tx9o46y98nGpzPzfZ/z+bBlqrdXMFSA2oZ5tWRrSZ+3yl30vqgNkfl467R0WrFiB31FkZ0aZzfb6gK/Q38mSw6TLwSkdt7H2zx9dj7LOvTKorwFmJKjnRCee9mrKXGkvsJCt2rR++Ljevp/qLfcZcf9Y2Z7CxGngfRkwD3Aq+EZc7B4D7gwDimO4DXIE/f9Pbfv+a29/j6763zKkA4iCAOAggTlSAq6+TQz+SeYDcTYezbWFbI3l8/d/f87VWf6MZMgV476embp4v/70jwh20Qn8jqboMTC1atK5Jx9bEj/+neHxtU4/A2f3NIFkBYgs0xyN7f2yZJmJ9Hd8XPldCzc45hkKt4dBVZBhyI8hSCcKVvRpqd0breckqO9+5EwEsQYSWacCyLGzZGS2p55V2vnOD7wPUZPt2rNkA58p3znH6yk1jvfq7MmYBYvNnGGwsbef43vD5HMcz8Vln/zP7m8HpOUBsGsgdMZa5v6WN2Ufg3Y/4kKIKcNeVLjiHtQBxEEAcQqHi3DYRNJvZCaRZMAWIgwDiIIA4JILEuX0iyLqCaIVEUAGzEkGf+gkbEkHuGomg2Tt/hdW/kGUSQTWQCHqzRCKoFhJBb26fCLJAIujN0FvBLYmgkVWgV9sryGAWoOZnUkrasfykm/WnXqw8X36pNJBzN08EfeoScCVIBInDWoA4CCAOAoiDAOIggDgIIA6BEHGWCYTM6Ms5AiFFzA6E7H+zKheBEEcgZBUIhBAI6c8nAiFW4SyssvOdWyQQYhljCIGQAcwIhFirTQ9WkGGJQMisS0ECIYfncq+vgUDIZyEQIg5rAeIggDj8RIw4VABxEEAcBBAHAcRBAHEQQBwEEAcBxEEAcRBAnKQA1qwc3AsqgDjJQAhrRBpQAcRBAHEQQBwEEAcBxEEAcRBAHAQQBwHEQQBxEEAcBBAHAcRBAHEIhIhDBRCHQIg4VABxEEAcBBAHAcRBAHEQQBwEEAcBxEEAcRBAHAQQBwHEQQBxEEAcAiHiUAHEIRAiDhVAHAQQBwHEQQBxEEAcBBAHAcRBAHEQQBwEEAcBxEEAcf4BB2cTktECnSoAAAAASUVORK5CYII=)"
      ],
      "metadata": {
        "id": "bZy7qjiyFY5D"
      }
    },
    {
      "cell_type": "code",
      "source": [
        "def generarTablas():\n",
        "    for i in range(10):\n",
        "        with open(f'tabla_del_{i}.txt', 'w') as tabla:\n",
        "            tabla.write(f'Tabla del {i}\\n')\n",
        "        for a in range(10):\n",
        "            with open(f'tabla_del_{i}.txt', 'a') as tabla:\n",
        "                tabla.write(f'\\t{i} x {a} = {i*a}\\n')\n",
        "generarTablas()"
      ],
      "metadata": {
        "id": "nve8UhE9GZxr"
      },
      "execution_count": 19,
      "outputs": []
    },
    {
      "cell_type": "markdown",
      "source": [
        "##On the same file system, make an algorithm that asks the user for a number n and a number m, so that it shows the user of the file table_del_n.txt, the multiplication 'm'."
      ],
      "metadata": {
        "id": "f6Kj485UL1yt"
      }
    },
    {
      "cell_type": "code",
      "source": [
        "def returnline(n, m):\n",
        "  with open(f'/content/tabla_del_{n}.txt', 'r') as tabla:\n",
        "    line = tabla.readlines()[m+1]\n",
        "  return print(line)\n",
        "\n",
        "returnline(3,0)"
      ],
      "metadata": {
        "id": "IOH7elShMniQ",
        "colab": {
          "base_uri": "https://localhost:8080/"
        },
        "outputId": "a287d93f-6346-4ca7-ba7d-1613004353eb"
      },
      "execution_count": 22,
      "outputs": [
        {
          "output_type": "stream",
          "name": "stdout",
          "text": [
            "\t3 x 0 = 0\n",
            "\n"
          ]
        }
      ]
    }
  ]
}